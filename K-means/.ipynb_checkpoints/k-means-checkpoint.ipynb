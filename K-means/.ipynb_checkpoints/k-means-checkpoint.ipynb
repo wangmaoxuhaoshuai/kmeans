{
 "cells": [
  {
   "cell_type": "code",
   "execution_count": 1,
   "metadata": {},
   "outputs": [],
   "source": [
    "import matplotlib.pyplot as plt\n",
    "import random\n",
    "import math\n",
    "from copy import copy\n",
    "import numpy"
   ]
  },
  {
   "cell_type": "code",
   "execution_count": 2,
   "metadata": {},
   "outputs": [],
   "source": [
    "def new(group):\n",
    "    mininum = float('inf')\n",
    "    for x1 in numpy.arange(min(group['x']),max(group['x']),0.01):\n",
    "        for y1 in numpy.arange(min(group['y']),max(group['y']),0.01):\n",
    "            \n",
    "            color_num = 0\n",
    "            j = 0\n",
    "            while j<= len(group['x']) - 1:\n",
    "                color_num += math.sqrt((group['x'][j] - x1)**2 + (group['y'][j] - y1)**2)\n",
    "                j += 1\n",
    "            if (color_num < mininum):\n",
    "                mininum = copy(color_num)\n",
    "\n",
    "                x2 = copy(x1)\n",
    "                y2 = copy(y1)\n",
    "    return x2,y2"
   ]
  },
  {
   "cell_type": "code",
   "execution_count": 3,
   "metadata": {},
   "outputs": [],
   "source": [
    "def color(a,b,x,y):\n",
    "    red = {'x':[],'y':[]}\n",
    "    blue = {'x':[],'y':[]}\n",
    "    black = {'x':[],'y':[]}\n",
    "    i = 0\n",
    "    while i < 80:\n",
    "        distance0 = math.sqrt((float(a[i]) - x[0])**2 + (float(b[i]) - y[0])**2)\n",
    "        distance1 = math.sqrt((float(a[i]) - x[1])**2 + (float(b[i]) - y[1])**2)\n",
    "        distance2 = math.sqrt((float(a[i]) - x[2])**2 + (float(b[i]) - y[2])**2)\n",
    "        \n",
    "        if(min(distance0,distance1,distance2)==distance0):\n",
    "            plt.plot(float(a[i]),float(b[i]),'ro',color='red')\n",
    "            red['x'].append(float(a[i]))\n",
    "            red['y'].append(float(b[i]))\n",
    "        elif(min(distance0,distance1,distance2)==distance1):\n",
    "            plt.plot(float(a[i]),float(b[i]),'ro',color='blue')\n",
    "            blue['x'].append(float(a[i]))\n",
    "            blue['y'].append(float(b[i]))\n",
    "        else:\n",
    "            plt.plot(float(a[i]),float(b[i]),'ro',color='black')\n",
    "            black['x'].append(float(a[i]))\n",
    "            black['y'].append(float(b[i]))\n",
    "        i += 1\n",
    "    return red,blue,black"
   ]
  },
  {
   "cell_type": "code",
   "execution_count": 16,
   "metadata": {},
   "outputs": [],
   "source": [
    "def main():\n",
    "    file = open('testSet.txt')\n",
    "    \n",
    "    a = []#用于存放x轴数据\n",
    "    \n",
    "    b = []#用于存放y轴数据\n",
    "    \n",
    "#     for line in file.readlines():\n",
    "#         data = line.strip().split('\\t')\n",
    "#         a.append(data[0])\n",
    "#         b.append(data[1])\n",
    "    a = numpy.random.randint(0,10,100)\n",
    "    b = numpy.random.randint(0,10,100)\n",
    "    \n",
    "    x = [random.randint(0,10),random.randint(0,10),random.randint(0,10)]\n",
    "    y = [random.randint(0,10),random.randint(0,10),random.randint(0,10)]\n",
    "    \n",
    "    red,blue,black = color(a,b,x,y)\n",
    "    plt.axis([-1,11,-1,11])\n",
    "    plt.plot(x[0],y[0],'x',color='red',markersize=15)\n",
    "    plt.plot(x[1],y[1],'x',color='blue',markersize=15)\n",
    "    plt.plot(x[2],y[2],'x',color='black',markersize=15)\n",
    "    plt.show()\n",
    "    \n",
    "    file.close()\n",
    "    \n",
    "    while True:\n",
    "        x1,y1 = copy(x[0]),copy(y[0])\n",
    "        x2,y2 = copy(x[1]),copy(y[1])\n",
    "        x3,y3 = copy(x[2]),copy(y[2])\n",
    "        x[0],y[0] = new(red)\n",
    "        x[1],y[1] = new(blue)\n",
    "        x[2],y[2] = new(black)\n",
    "        \n",
    "        red,blue,black = color(a,b,x,y)\n",
    "        plt.axis([-1,11,-1,11])\n",
    "        plt.plot(x[0],y[0],'x',color='red',markersize=15)\n",
    "        plt.plot(x[1],y[1],'x',color='blue',markersize=15)\n",
    "        plt.plot(x[2],y[2],'x',color='black',markersize=15)\n",
    "        plt.show()\n",
    "        \n",
    "        if (x1 == x[0] and y1 == y[0] and x2 == x[1] and y2 == y[1] and x3 == x[2] and y3 == y[2]):\n",
    "            print(\"收敛\")\n",
    "            return\n",
    "        \n",
    "#         if((x[0],y[0] == new(red)) and (x[1],y[1] == new(blue)) and (x[2],y[2] == new(black))):\n",
    "#             print(\"收敛！\")\n",
    "#             return\n",
    "        "
   ]
  },
  {
   "cell_type": "code",
   "execution_count": 17,
   "metadata": {},
   "outputs": [
    {
     "data": {
      "image/png": "[encoded data removed]",
      "text/plain": [
       "<Figure size 432x288 with 1 Axes>"
      ]
     },
     "metadata": {},
     "output_type": "display_data"
    },
    {
     "data": {
      "image/png": "[encoded data removed]",
      "text/plain": [
       "<Figure size 432x288 with 1 Axes>"
      ]
     },
     "metadata": {},
     "output_type": "display_data"
    },
    {
     "name": "stdout",
     "output_type": "stream",
     "text": [
      "收敛！\n"
     ]
    }
   ],
   "source": [
    "main()"
   ]
  },
  {
   "cell_type": "code",
   "execution_count": null,
   "metadata": {},
   "outputs": [],
   "source": []
  },
  {
   "cell_type": "code",
   "execution_count": null,
   "metadata": {},
   "outputs": [],
   "source": []
  }
 ],
 "metadata": {
  "kernelspec": {
   "display_name": "Python 3",
   "language": "python",
   "name": "python3"
  },
  "language_info": {
   "codemirror_mode": {
    "name": "ipython",
    "version": 3
   },
   "file_extension": ".py",
   "mimetype": "text/x-python",
   "name": "python",
   "nbconvert_exporter": "python",
   "pygments_lexer": "ipython3",
   "version": "3.6.5"
  }
 },
 "nbformat": 4,
 "nbformat_minor": 2
}
